{
 "cells": [
  {
   "cell_type": "code",
   "execution_count": 1,
   "id": "7074a649",
   "metadata": {},
   "outputs": [],
   "source": [
    "# Chargement des librairies\n",
    "from cnaclib.tools import GenererDossiers"
   ]
  },
  {
   "cell_type": "code",
   "execution_count": 2,
   "id": "026b4b92",
   "metadata": {},
   "outputs": [],
   "source": [
    "# Générer des dossiers qui posrtent le nom de la wilaya en français\n",
    "langue = 0\n",
    "GenererDossiers(langue)"
   ]
  },
  {
   "cell_type": "code",
   "execution_count": null,
   "id": "591ade62",
   "metadata": {},
   "outputs": [],
   "source": [
    "# Générer des dossiers qui posrtent le nom de la wilaya en arabae\n",
    "langue = 1\n",
    "GenererDossiers(langue)"
   ]
  }
 ],
 "metadata": {
  "kernelspec": {
   "display_name": "Python 3",
   "language": "python",
   "name": "python3"
  },
  "language_info": {
   "codemirror_mode": {
    "name": "ipython",
    "version": 3
   },
   "file_extension": ".py",
   "mimetype": "text/x-python",
   "name": "python",
   "nbconvert_exporter": "python",
   "pygments_lexer": "ipython3",
   "version": "3.8.10"
  }
 },
 "nbformat": 4,
 "nbformat_minor": 5
}
