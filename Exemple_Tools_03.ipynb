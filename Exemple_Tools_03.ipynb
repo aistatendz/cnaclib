{
 "cells": [
  {
   "cell_type": "code",
   "execution_count": 1,
   "id": "7e8aa8bb",
   "metadata": {},
   "outputs": [],
   "source": [
    "# Chargement des librairies\n",
    "from cnaclib.tools import SNMG"
   ]
  },
  {
   "cell_type": "code",
   "execution_count": 4,
   "id": "501643b1",
   "metadata": {},
   "outputs": [
    {
     "name": "stdout",
     "output_type": "stream",
     "text": [
      "6000\n"
     ]
    }
   ],
   "source": [
    "# Récupérer le montant du SNMG en fonction de la date fournie\n",
    "date = '20/03/2000'\n",
    "snmg = SNMG(date)\n",
    "\n",
    "print(snmg)"
   ]
  }
 ],
 "metadata": {
  "kernelspec": {
   "display_name": "Python 3.8.10 64-bit",
   "language": "python",
   "name": "python3"
  },
  "language_info": {
   "codemirror_mode": {
    "name": "ipython",
    "version": 3
   },
   "file_extension": ".py",
   "mimetype": "text/x-python",
   "name": "python",
   "nbconvert_exporter": "python",
   "pygments_lexer": "ipython3",
   "version": "3.8.10"
  },
  "vscode": {
   "interpreter": {
    "hash": "570feb405e2e27c949193ac68f46852414290d515b0ba6e5d90d076ed2284471"
   }
  }
 },
 "nbformat": 4,
 "nbformat_minor": 5
}
