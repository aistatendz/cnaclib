{
 "cells": [
  {
   "cell_type": "markdown",
   "id": "7a36ed0c",
   "metadata": {},
   "source": [
    "# Mesure d'encouragement à l'emploi (Loi 06-21)"
   ]
  },
  {
   "cell_type": "markdown",
   "id": "a41ebb0d",
   "metadata": {},
   "source": [
    "## Action de Recrutement"
   ]
  },
  {
   "cell_type": "code",
   "execution_count": 4,
   "id": "8a5b5a69",
   "metadata": {},
   "outputs": [],
   "source": [
    "# Chargement des librairies\n",
    "from cnaclib.lSix import Recrutement"
   ]
  },
  {
   "cell_type": "code",
   "execution_count": 8,
   "id": "c7ff2527",
   "metadata": {},
   "outputs": [],
   "source": [
    "# Déclaration des paramètres\n",
    "Wilaya = 'ADRAR'\n",
    "primo_demandeur = False \n",
    "contrat = 0\n",
    "salaire = 50000"
   ]
  },
  {
   "cell_type": "code",
   "execution_count": 9,
   "id": "b94cbe6f",
   "metadata": {},
   "outputs": [],
   "source": [
    "# Instanciation de l'objet simulation\n",
    "rec = Recrutement(Wilaya=Wilaya, primo_demandeur=primo_demandeur, Contrat=contrat,Salaire=salaire)"
   ]
  },
  {
   "cell_type": "code",
   "execution_count": 14,
   "id": "cc7fa21f",
   "metadata": {},
   "outputs": [
    {
     "name": "stdout",
     "output_type": "stream",
     "text": [
      "36.0 %\n"
     ]
    }
   ],
   "source": [
    "# Taux d'abattement à la charge de la CNAC\n",
    "t_CNAC = rec.Taux_Abattement()[0]\n",
    "print(t_CNAC*100, '%')"
   ]
  },
  {
   "cell_type": "code",
   "execution_count": 23,
   "id": "36c96057",
   "metadata": {},
   "outputs": [
    {
     "name": "stdout",
     "output_type": "stream",
     "text": [
      "54.0 %\n"
     ]
    }
   ],
   "source": [
    "# Taux d'abattement à la charge du trésor\n",
    "t_CNAC = rec.Taux_Abattement()[1]\n",
    "print(t_CNAC*100, '%')"
   ]
  },
  {
   "cell_type": "code",
   "execution_count": 28,
   "id": "848ccf5c",
   "metadata": {},
   "outputs": [
    {
     "name": "stdout",
     "output_type": "stream",
     "text": [
      "12500.0\n"
     ]
    }
   ],
   "source": [
    "# Montnat de la quote_part patronale\n",
    "res = rec.Montant_Abattement()[0]\n",
    "print(res)"
   ]
  },
  {
   "cell_type": "code",
   "execution_count": 29,
   "id": "6c929f4b",
   "metadata": {},
   "outputs": [
    {
     "name": "stdout",
     "output_type": "stream",
     "text": [
      "4500.0\n"
     ]
    }
   ],
   "source": [
    "# Montnat de l'abattement à la charge de la CNAC \n",
    "res = rec.Montant_Abattement()[1]\n",
    "print(res)"
   ]
  },
  {
   "cell_type": "code",
   "execution_count": 30,
   "id": "6cb975e3",
   "metadata": {},
   "outputs": [
    {
     "name": "stdout",
     "output_type": "stream",
     "text": [
      "6750.0\n"
     ]
    }
   ],
   "source": [
    "# Montnat de l'abattement à la charge du trésor\n",
    "res = rec.Montant_Abattement()[2]\n",
    "print(res)"
   ]
  },
  {
   "cell_type": "code",
   "execution_count": 31,
   "id": "ac5cd141",
   "metadata": {},
   "outputs": [
    {
     "name": "stdout",
     "output_type": "stream",
     "text": [
      "8000.0\n"
     ]
    }
   ],
   "source": [
    "# Montant de la quote-part patronale a payé par l'employeur avec abattement CNAC\n",
    "res = rec.Montant_Abattement()[3]\n",
    "print(res)"
   ]
  },
  {
   "cell_type": "code",
   "execution_count": 33,
   "id": "3a4156f9",
   "metadata": {},
   "outputs": [
    {
     "name": "stdout",
     "output_type": "stream",
     "text": [
      "1250.0\n"
     ]
    }
   ],
   "source": [
    "# Montant de la quote-part patronale a payé par l'employeur avec abattement CNAC & abattement trésor\n",
    "res = rec.Montant_Abattement()[4]\n",
    "print(res)"
   ]
  },
  {
   "cell_type": "code",
   "execution_count": null,
   "id": "4c0dc122",
   "metadata": {},
   "outputs": [],
   "source": []
  }
 ],
 "metadata": {
  "kernelspec": {
   "display_name": "Python 3",
   "language": "python",
   "name": "python3"
  },
  "language_info": {
   "codemirror_mode": {
    "name": "ipython",
    "version": 3
   },
   "file_extension": ".py",
   "mimetype": "text/x-python",
   "name": "python",
   "nbconvert_exporter": "python",
   "pygments_lexer": "ipython3",
   "version": "3.8.10"
  }
 },
 "nbformat": 4,
 "nbformat_minor": 5
}
