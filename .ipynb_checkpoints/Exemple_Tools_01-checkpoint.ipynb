{
 "cells": [
  {
   "cell_type": "code",
   "execution_count": 2,
   "id": "7074a649",
   "metadata": {},
   "outputs": [],
   "source": [
    "# Chargement des librairies\n",
    "from cnaclib.tools import listeCodewils, Codewil, NomWil, Region"
   ]
  },
  {
   "cell_type": "code",
   "execution_count": 2,
   "id": "b968bb7b",
   "metadata": {},
   "outputs": [
    {
     "name": "stdout",
     "output_type": "stream",
     "text": [
      "['01', '02', '03', '04', '05', '06', '07', '08', '09', '10', '11', '12', '13', '14', '15', '16', '17', '18', '19', '20', '21', '22', '23', '24', '25', '26', '27', '28', '29', '30', '31', '32', '33', '34', '35', '36', '37', '38', '39', '40', '41', '42', '43', '44', '45', '46', '47', '48', '49', '50', '51', '52', '53', '54', '55', '56', '57', '58']\n"
     ]
    }
   ],
   "source": [
    "# Créer une liste des codes de wilaya\n",
    "liste = listeCodewils()\n",
    "\n",
    "print(liste)"
   ]
  },
  {
   "cell_type": "code",
   "execution_count": 3,
   "id": "1c46b6c9",
   "metadata": {},
   "outputs": [
    {
     "name": "stdout",
     "output_type": "stream",
     "text": [
      "23\n"
     ]
    }
   ],
   "source": [
    "# Afficher le code de la wilaya en fonction de son nom en français\n",
    "nom_fr = 'annaba'\n",
    "langue = 0\n",
    "code = Codewil(nom_fr, langue)\n",
    "\n",
    "print(code)"
   ]
  },
  {
   "cell_type": "code",
   "execution_count": 4,
   "id": "630806c2",
   "metadata": {},
   "outputs": [
    {
     "name": "stdout",
     "output_type": "stream",
     "text": [
      "07\n"
     ]
    }
   ],
   "source": [
    "# Afficher le code de la wilaya en fonction de son nom en arabe\n",
    "nom_ar = 'بسكرة'\n",
    "langue = 1\n",
    "code = Codewil(nom_ar, langue)\n",
    "\n",
    "print(code)"
   ]
  },
  {
   "cell_type": "code",
   "execution_count": 5,
   "id": "efd66ac9",
   "metadata": {},
   "outputs": [
    {
     "name": "stdout",
     "output_type": "stream",
     "text": [
      "GHARDAIA\n"
     ]
    }
   ],
   "source": [
    "# Afficher le nom de la wilaya en français en fonction du code\n",
    "code = '47'\n",
    "langue = 0\n",
    "nom_fr = NomWil(code, langue)\n",
    "\n",
    "print(nom_fr)"
   ]
  },
  {
   "cell_type": "code",
   "execution_count": 6,
   "id": "54619e8b",
   "metadata": {},
   "outputs": [
    {
     "name": "stdout",
     "output_type": "stream",
     "text": [
      "تيارت\n"
     ]
    }
   ],
   "source": [
    "# Afficher le nom de la wilaya en arabe en fonction du code\n",
    "code = '14'\n",
    "langue = 1\n",
    "nom_ar = NomWil(code, langue)\n",
    "\n",
    "print(nom_ar)"
   ]
  },
  {
   "cell_type": "code",
   "execution_count": 7,
   "id": "a2bfd203",
   "metadata": {},
   "outputs": [
    {
     "name": "stdout",
     "output_type": "stream",
     "text": [
      "Sud\n"
     ]
    }
   ],
   "source": [
    "# Afficher la région de la wilaya en français en fonction de son nom en français\n",
    "nom_fr = 'adrar'\n",
    "langue = 0\n",
    "region_fr = Region(nom_fr, langue)\n",
    "\n",
    "print(region_fr)"
   ]
  },
  {
   "cell_type": "code",
   "execution_count": 8,
   "id": "ddd9c7f4",
   "metadata": {},
   "outputs": [
    {
     "name": "stdout",
     "output_type": "stream",
     "text": [
      "الجنوب\n"
     ]
    }
   ],
   "source": [
    "# Afficher la région de la wilaya en français en fonction de son nom en arabe\n",
    "nom_ar = 'بشار'\n",
    "langue = 1\n",
    "region_ar = Region(nom_ar, langue)\n",
    "\n",
    "print(region_ar)"
   ]
  }
 ],
 "metadata": {
  "kernelspec": {
   "display_name": "Python 3",
   "language": "python",
   "name": "python3"
  },
  "language_info": {
   "codemirror_mode": {
    "name": "ipython",
    "version": 3
   },
   "file_extension": ".py",
   "mimetype": "text/x-python",
   "name": "python",
   "nbconvert_exporter": "python",
   "pygments_lexer": "ipython3",
   "version": "3.8.10"
  }
 },
 "nbformat": 4,
 "nbformat_minor": 5
}
