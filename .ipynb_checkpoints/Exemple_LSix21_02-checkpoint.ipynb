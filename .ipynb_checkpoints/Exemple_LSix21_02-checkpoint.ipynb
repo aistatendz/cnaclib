{
 "cells": [
  {
   "cell_type": "markdown",
   "id": "7a36ed0c",
   "metadata": {},
   "source": [
    "# Mesure d'encouragement à l'emploi (Loi 06-21)"
   ]
  },
  {
   "cell_type": "markdown",
   "id": "523ef5fc",
   "metadata": {},
   "source": [
    "## Action de Formation"
   ]
  },
  {
   "cell_type": "code",
   "execution_count": 2,
   "id": "8a5b5a69",
   "metadata": {},
   "outputs": [],
   "source": [
    "# Chargement des librairies\n",
    "from cnaclib.lSix import Formation"
   ]
  },
  {
   "cell_type": "code",
   "execution_count": 3,
   "id": "f54a5edb",
   "metadata": {},
   "outputs": [
    {
     "name": "stdout",
     "output_type": "stream",
     "text": [
      "Help on class Formation in module cnaclib.lSix:\n",
      "\n",
      "class Formation(builtins.object)\n",
      " |  Formation(duree_formation=0, Salaire=20000.0)\n",
      " |  \n",
      " |  MESURE D'ENCOURAGEMENT A L'EMPLOI (LOI 06-21) : SIMULATEUR\n",
      " |  \n",
      " |  Cette  Classe en python permet de réaliser des simulations pour le calcul des  avantages liés à l'exonération mensuelle de la quote-part de sécurité sociale.\n",
      " |  \n",
      " |  La classe 'Formation' permet de :\n",
      " |  \n",
      " |      - Calculer le nombre de mois d'exonération de la quote-part patronale;\n",
      " |      - Calculer le montant de la cotisation mensuelle de sécurité sociale à la charge de l’employeur avant exonération ;\n",
      " |      - Calculer le montant de l'exonération mensuelle à la charge de la CNAC;\n",
      " |      - Calculer le montant de l'exonération totale pour toute la duré d'exonération à la charge de la CNAC;\n",
      " |  \n",
      " |  \n",
      " |  Parameters\n",
      " |  ----------\n",
      " |  duree_formation : int default 0, \n",
      " |      C’est la durée de formation du salarié. Ce paramètre peut prendre 03 arguments : 0 --> la durée de formation >= 15 jrs et <= 01 mois,\n",
      " |      1 -- > la durée de formation > 01 mois et <= 02 mois, 3 --> la durée de formation > 02 mois.\n",
      " |     \n",
      " |  Salaire : float default 20000.0,\n",
      " |      C’est le salaire (moyen) soumis à cotisation de sécurité sociale du salarié en formation.\n",
      " |  \n",
      " |  \n",
      " |  Attributes\n",
      " |  ----------\n",
      " |  \n",
      " |  nbre_mois : int,\n",
      " |      C'est la durée d'exonération de la quote-part patronale en nombre de mois.\n",
      " |      Cet attribut prend 03 valeurs : 1 mois, 2 mois ou 3 mois.\n",
      " |  \n",
      " |  montant_quote_part_patronale : float, \n",
      " |      C'est le montant la cotisation de sécurité sociale à la charge de l'employeur sans exonération.\n",
      " |  \n",
      " |  montant_mensuel_exoneration : float, \n",
      " |      C'est le montant de l'exonération mensuelle à la charge de la CNAC.\n",
      " |  \n",
      " |  montant_total_exoneration: float, \n",
      " |      C'est le montant de l'exonération totale pour toute la duré d'exonération à la charge de la CNAC.\n",
      " |  \n",
      " |  Methods defined here:\n",
      " |  \n",
      " |  Montant_Formation(self)\n",
      " |  \n",
      " |  Nbre_Mois(self)\n",
      " |  \n",
      " |  __init__(self, duree_formation=0, Salaire=20000.0)\n",
      " |      Initialize self.  See help(type(self)) for accurate signature.\n",
      " |  \n",
      " |  ----------------------------------------------------------------------\n",
      " |  Data descriptors defined here:\n",
      " |  \n",
      " |  __dict__\n",
      " |      dictionary for instance variables (if defined)\n",
      " |  \n",
      " |  __weakref__\n",
      " |      list of weak references to the object (if defined)\n",
      "\n"
     ]
    }
   ],
   "source": [
    "help(Formation)"
   ]
  },
  {
   "cell_type": "code",
   "execution_count": 3,
   "id": "c7ff2527",
   "metadata": {},
   "outputs": [],
   "source": [
    "# Déclaration des paramètres\n",
    "duree_formation = 1 \n",
    "salaire = 25000"
   ]
  },
  {
   "cell_type": "code",
   "execution_count": 4,
   "id": "b94cbe6f",
   "metadata": {},
   "outputs": [],
   "source": [
    "# Instanciation de l'objet simulation\n",
    "form = Formation(duree_formation = duree_formation, Salaire = salaire)"
   ]
  },
  {
   "cell_type": "code",
   "execution_count": 6,
   "id": "cc7fa21f",
   "metadata": {},
   "outputs": [
    {
     "name": "stdout",
     "output_type": "stream",
     "text": [
      "2\n"
     ]
    }
   ],
   "source": [
    "# Nombre de mois d'exonération\n",
    "nbre = form.Nbre_Mois()\n",
    "print(nbre)"
   ]
  },
  {
   "cell_type": "code",
   "execution_count": 8,
   "id": "848ccf5c",
   "metadata": {},
   "outputs": [
    {
     "name": "stdout",
     "output_type": "stream",
     "text": [
      "6250.0\n"
     ]
    }
   ],
   "source": [
    "# Montnat de la quote-part patronale\n",
    "res = form.Montant_Formation()[0]\n",
    "print(res)"
   ]
  },
  {
   "cell_type": "code",
   "execution_count": 9,
   "id": "6c929f4b",
   "metadata": {},
   "outputs": [
    {
     "name": "stdout",
     "output_type": "stream",
     "text": [
      "6250.0\n"
     ]
    }
   ],
   "source": [
    "# Montnat de la subvention mensuelle \n",
    "res = form.Montant_Formation()[1]\n",
    "print(res)"
   ]
  },
  {
   "cell_type": "code",
   "execution_count": 10,
   "id": "6cb975e3",
   "metadata": {},
   "outputs": [
    {
     "name": "stdout",
     "output_type": "stream",
     "text": [
      "12500.0\n"
     ]
    }
   ],
   "source": [
    "# Montnat de la subvention totale pour toute la durée d'exonération\n",
    "res = form.Montant_Formation()[2]\n",
    "print(res)"
   ]
  }
 ],
 "metadata": {
  "kernelspec": {
   "display_name": "Python 3",
   "language": "python",
   "name": "python3"
  },
  "language_info": {
   "codemirror_mode": {
    "name": "ipython",
    "version": 3
   },
   "file_extension": ".py",
   "mimetype": "text/x-python",
   "name": "python",
   "nbconvert_exporter": "python",
   "pygments_lexer": "ipython3",
   "version": "3.8.10"
  }
 },
 "nbformat": 4,
 "nbformat_minor": 5
}
