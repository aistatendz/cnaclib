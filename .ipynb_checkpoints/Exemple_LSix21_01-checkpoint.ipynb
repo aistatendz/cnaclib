{
 "cells": [
  {
   "cell_type": "markdown",
   "id": "7a36ed0c",
   "metadata": {},
   "source": [
    "# Mesure d'encouragement à l'emploi (Loi 06-21)"
   ]
  },
  {
   "cell_type": "markdown",
   "id": "a41ebb0d",
   "metadata": {},
   "source": [
    "## Action de Recrutement"
   ]
  },
  {
   "cell_type": "code",
   "execution_count": 5,
   "id": "8a5b5a69",
   "metadata": {},
   "outputs": [],
   "source": [
    "# Chargement des librairies\n",
    "from cnaclib.lSix import Recrutement"
   ]
  },
  {
   "cell_type": "code",
   "execution_count": 6,
   "id": "9f6a442c",
   "metadata": {},
   "outputs": [
    {
     "name": "stdout",
     "output_type": "stream",
     "text": [
      "Help on class Recrutement in module cnaclib.lSix:\n",
      "\n",
      "class Recrutement(builtins.object)\n",
      " |  Recrutement(Wilaya='ADRAR', primo_demandeur=False, Contrat=0, Salaire=20000.0)\n",
      " |  \n",
      " |  MESURE D'ENCOURAGEMENT A L'EMPLOI (LOI 06-21) : SIMULATEUR\n",
      " |  \n",
      " |  Cette  Classe en python permet de réaliser des simulations pour le calcul des  avantages liés à l’abattement sur cotisation sociale et à la subvention mensuelle à l’emploi.\n",
      " |      \n",
      " |  La classe 'Recrutement' permet de :\n",
      " |      - Calculer le taux d’abattement à la charge de la CNAC ;\n",
      " |      - Calculer le taux d’abattement à la charge du trésor ;\n",
      " |      - Calculer le montant de l’abattement à la charge de la CNAC ;\n",
      " |      - Calculer le montant de l’abattement à la charge du trésor ;\n",
      " |      - Calculer le montant de la cotisation de sécurité sociale à la charge de l’employeur avant abattement ;\n",
      " |      - Calculer le montant de la cotisation de sécurité sociale à la charge de l’employeur après abattement ;\n",
      " |      - Calculer le montant de la subvention mensuel à l’emploi à la charge de la CNAC ;\n",
      " |  \n",
      " |  Parameters\n",
      " |  ----------\n",
      " |  Wilaya : string default 'ADRAR', \n",
      " |      C’est la wilaya du recrutement. Ce paramètre sert à trouver la région du recrutement. \n",
      " |  \n",
      " |  primo_demandeur : boolean default False, \n",
      " |      Spécifie si la personne recrutée est un primo-demandeur ou non. Ce paramètre prend deux valeur true or false.\n",
      " |  \n",
      " |  Contrat : int default 0, \n",
      " |      Désigne le type du contrat de travail CDD ou CDI. Il prend deux valeur, 0 si CDD et 1 sinon.\n",
      " |  \n",
      " |  Salaire : float default 20000.0,\n",
      " |      C’est le salaire (moyen) soumis à cotisation de sécurité sociale du salarié recruté.\n",
      " |  \n",
      " |  \n",
      " |  Attributes\n",
      " |  ----------\n",
      " |  \n",
      " |  taux_CNAC : float,\n",
      " |      C'est le taux d'abattement à la charge de la CNAC,\n",
      " |  \n",
      " |  taux_tresor : floar,\n",
      " |      C'est le taux d'abattement à la charge du trésor,\n",
      " |  \n",
      " |  montant_quote_part_patronale : float,\n",
      " |      C'est le montant la cotisation de sécurité sociale à la charge de l'employeur sans abattement.\n",
      " |  \n",
      " |  montnat_Abattement_CNAC : float,\n",
      " |      C'est le montant la cotisation de sécurité sociale à la charge de la CNAC.\n",
      " |  \n",
      " |  montnat_Abattement_tresor : float, \n",
      " |      C'est le montant la cotisation de sécurité sociale à la charge du trésor. \n",
      " |  \n",
      " |  montant_Quote_part_a_paye_avec_CNAC : float,\n",
      " |      C'est le montant la cotisation de sécurité sociale à la charge de l'employeur avec abattement CNAC.\n",
      " |  \n",
      " |  montant_Quote_part_a_paye_avec_cnac_tresor : float,\n",
      " |      C'est le montant la cotisation de sécurité sociale à la charge de l'employeur avec abattement CNAC & abattement trésor.\n",
      " |  \n",
      " |  Montant_Sub : float,\n",
      " |      C'est le montant total de la subvention mensuelle à l'emploi à la charge de la CNAC.\n",
      " |  \n",
      " |  Methods defined here:\n",
      " |  \n",
      " |  Montant_Abattement(self)\n",
      " |  \n",
      " |  Montant_Subvention(self)\n",
      " |  \n",
      " |  Taux_Abattement(self)\n",
      " |  \n",
      " |  __init__(self, Wilaya='ADRAR', primo_demandeur=False, Contrat=0, Salaire=20000.0)\n",
      " |      Initialize self.  See help(type(self)) for accurate signature.\n",
      " |  \n",
      " |  ----------------------------------------------------------------------\n",
      " |  Data descriptors defined here:\n",
      " |  \n",
      " |  __dict__\n",
      " |      dictionary for instance variables (if defined)\n",
      " |  \n",
      " |  __weakref__\n",
      " |      list of weak references to the object (if defined)\n",
      "\n"
     ]
    }
   ],
   "source": [
    "help(Recrutement)"
   ]
  },
  {
   "cell_type": "code",
   "execution_count": 8,
   "id": "c7ff2527",
   "metadata": {},
   "outputs": [],
   "source": [
    "# Déclaration des paramètres\n",
    "Wilaya = 'ADRAR'\n",
    "primo_demandeur = False \n",
    "contrat = 0\n",
    "salaire = 50000"
   ]
  },
  {
   "cell_type": "code",
   "execution_count": 9,
   "id": "b94cbe6f",
   "metadata": {},
   "outputs": [],
   "source": [
    "# Instanciation de l'objet simulation\n",
    "rec = Recrutement(Wilaya=Wilaya, primo_demandeur=primo_demandeur, Contrat=contrat,Salaire=salaire)"
   ]
  },
  {
   "cell_type": "code",
   "execution_count": 14,
   "id": "cc7fa21f",
   "metadata": {},
   "outputs": [
    {
     "name": "stdout",
     "output_type": "stream",
     "text": [
      "36.0 %\n"
     ]
    }
   ],
   "source": [
    "# Taux d'abattement à la charge de la CNAC\n",
    "t_CNAC = rec.Taux_Abattement()[0]\n",
    "print(t_CNAC*100, '%')"
   ]
  },
  {
   "cell_type": "code",
   "execution_count": 23,
   "id": "36c96057",
   "metadata": {},
   "outputs": [
    {
     "name": "stdout",
     "output_type": "stream",
     "text": [
      "54.0 %\n"
     ]
    }
   ],
   "source": [
    "# Taux d'abattement à la charge du trésor\n",
    "t_CNAC = rec.Taux_Abattement()[1]\n",
    "print(t_CNAC*100, '%')"
   ]
  },
  {
   "cell_type": "code",
   "execution_count": 28,
   "id": "848ccf5c",
   "metadata": {},
   "outputs": [
    {
     "name": "stdout",
     "output_type": "stream",
     "text": [
      "12500.0\n"
     ]
    }
   ],
   "source": [
    "# Montnat de la quote_part patronale\n",
    "res = rec.Montant_Abattement()[0]\n",
    "print(res)"
   ]
  },
  {
   "cell_type": "code",
   "execution_count": 29,
   "id": "6c929f4b",
   "metadata": {},
   "outputs": [
    {
     "name": "stdout",
     "output_type": "stream",
     "text": [
      "4500.0\n"
     ]
    }
   ],
   "source": [
    "# Montnat de l'abattement à la charge de la CNAC \n",
    "res = rec.Montant_Abattement()[1]\n",
    "print(res)"
   ]
  },
  {
   "cell_type": "code",
   "execution_count": 30,
   "id": "6cb975e3",
   "metadata": {},
   "outputs": [
    {
     "name": "stdout",
     "output_type": "stream",
     "text": [
      "6750.0\n"
     ]
    }
   ],
   "source": [
    "# Montnat de l'abattement à la charge du trésor\n",
    "res = rec.Montant_Abattement()[2]\n",
    "print(res)"
   ]
  },
  {
   "cell_type": "code",
   "execution_count": 31,
   "id": "ac5cd141",
   "metadata": {},
   "outputs": [
    {
     "name": "stdout",
     "output_type": "stream",
     "text": [
      "8000.0\n"
     ]
    }
   ],
   "source": [
    "# Montant de la quote-part patronale a payé par l'employeur avec abattement CNAC\n",
    "res = rec.Montant_Abattement()[3]\n",
    "print(res)"
   ]
  },
  {
   "cell_type": "code",
   "execution_count": 33,
   "id": "3a4156f9",
   "metadata": {},
   "outputs": [
    {
     "name": "stdout",
     "output_type": "stream",
     "text": [
      "1250.0\n"
     ]
    }
   ],
   "source": [
    "# Montant de la quote-part patronale a payé par l'employeur avec abattement CNAC & abattement trésor\n",
    "res = rec.Montant_Abattement()[4]\n",
    "print(res)"
   ]
  },
  {
   "cell_type": "code",
   "execution_count": null,
   "id": "4c0dc122",
   "metadata": {},
   "outputs": [],
   "source": []
  }
 ],
 "metadata": {
  "kernelspec": {
   "display_name": "Python 3",
   "language": "python",
   "name": "python3"
  },
  "language_info": {
   "codemirror_mode": {
    "name": "ipython",
    "version": 3
   },
   "file_extension": ".py",
   "mimetype": "text/x-python",
   "name": "python",
   "nbconvert_exporter": "python",
   "pygments_lexer": "ipython3",
   "version": "3.8.10"
  }
 },
 "nbformat": 4,
 "nbformat_minor": 5
}
