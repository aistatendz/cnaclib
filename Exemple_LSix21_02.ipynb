{
 "cells": [
  {
   "cell_type": "markdown",
   "id": "7a36ed0c",
   "metadata": {},
   "source": [
    "# Mesure d'encouragement à l'emploi (Loi 06-21)"
   ]
  },
  {
   "cell_type": "markdown",
   "id": "523ef5fc",
   "metadata": {},
   "source": [
    "## Action de Formation"
   ]
  },
  {
   "cell_type": "code",
   "execution_count": 1,
   "id": "8a5b5a69",
   "metadata": {},
   "outputs": [],
   "source": [
    "# Chargement des librairies\n",
    "from cnaclib.lSix import Formation"
   ]
  },
  {
   "cell_type": "code",
   "execution_count": 3,
   "id": "c7ff2527",
   "metadata": {},
   "outputs": [],
   "source": [
    "# Déclaration des paramètres\n",
    "duree_formation = 1 \n",
    "salaire = 25000"
   ]
  },
  {
   "cell_type": "code",
   "execution_count": 4,
   "id": "b94cbe6f",
   "metadata": {},
   "outputs": [],
   "source": [
    "# Instanciation de l'objet simulation\n",
    "form = Formation(duree_formation = duree_formation, Salaire = salaire)"
   ]
  },
  {
   "cell_type": "code",
   "execution_count": 6,
   "id": "cc7fa21f",
   "metadata": {},
   "outputs": [
    {
     "name": "stdout",
     "output_type": "stream",
     "text": [
      "2\n"
     ]
    }
   ],
   "source": [
    "# Nombre de mois d'exonération\n",
    "nbre = form.Nbre_Mois()\n",
    "print(nbre)"
   ]
  },
  {
   "cell_type": "code",
   "execution_count": 8,
   "id": "848ccf5c",
   "metadata": {},
   "outputs": [
    {
     "name": "stdout",
     "output_type": "stream",
     "text": [
      "6250.0\n"
     ]
    }
   ],
   "source": [
    "# Montnat de la quote-part patronale\n",
    "res = form.Montant_Formation()[0]\n",
    "print(res)"
   ]
  },
  {
   "cell_type": "code",
   "execution_count": 9,
   "id": "6c929f4b",
   "metadata": {},
   "outputs": [
    {
     "name": "stdout",
     "output_type": "stream",
     "text": [
      "6250.0\n"
     ]
    }
   ],
   "source": [
    "# Montnat de la subvention mensuelle \n",
    "res = form.Montant_Formation()[1]\n",
    "print(res)"
   ]
  },
  {
   "cell_type": "code",
   "execution_count": 10,
   "id": "6cb975e3",
   "metadata": {},
   "outputs": [
    {
     "name": "stdout",
     "output_type": "stream",
     "text": [
      "12500.0\n"
     ]
    }
   ],
   "source": [
    "# Montnat de la subvention totale pour toute la durée d'exonération\n",
    "res = form.Montant_Formation()[2]\n",
    "print(res)"
   ]
  }
 ],
 "metadata": {
  "kernelspec": {
   "display_name": "Python 3",
   "language": "python",
   "name": "python3"
  },
  "language_info": {
   "codemirror_mode": {
    "name": "ipython",
    "version": 3
   },
   "file_extension": ".py",
   "mimetype": "text/x-python",
   "name": "python",
   "nbconvert_exporter": "python",
   "pygments_lexer": "ipython3",
   "version": "3.8.10"
  }
 },
 "nbformat": 4,
 "nbformat_minor": 5
}
