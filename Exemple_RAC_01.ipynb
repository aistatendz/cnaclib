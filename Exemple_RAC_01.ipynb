{
 "cells": [
  {
   "cell_type": "markdown",
   "id": "b5ee9df5",
   "metadata": {},
   "source": [
    "# Régime d'Assurance Chômage (RAC)"
   ]
  },
  {
   "cell_type": "markdown",
   "id": "27be0a3f",
   "metadata": {},
   "source": [
    "## Simulation RAC sans retraite anticipée"
   ]
  },
  {
   "cell_type": "code",
   "execution_count": 2,
   "id": "498bbd44",
   "metadata": {},
   "outputs": [],
   "source": [
    "# Chargement des librairies\n",
    "from cnaclib.rac import RAC\n",
    "import pandas as pd\n",
    "from datetime import datetime\n",
    "import os"
   ]
  },
  {
   "cell_type": "code",
   "execution_count": 3,
   "id": "dfdcc0cd",
   "metadata": {},
   "outputs": [
    {
     "name": "stdout",
     "output_type": "stream",
     "text": [
      "Help on class RAC in module cnaclib.rac:\n",
      "\n",
      "class RAC(builtins.object)\n",
      " |  RAC(DateRecrutement, DateCompression, SMM)\n",
      " |  \n",
      " |  REGIME ASSURANCE CHOMAGE : SIMULATEUR\n",
      " |  \n",
      " |  Cette Classe en 'python' permet de réaliser des simulations pour le calculs des différents éléments liés au régime d'assurance chômage.\n",
      " |  Elle permet de :\n",
      " |  - Vérifier la condition d'admission relative à l'experience professionnelle;\n",
      " |  - Calculer la durée de prise en charge (DPC);\n",
      " |  - Calculer le montant de la Contribution d'Ouverture de Droits;\n",
      " |  - Récupérer le montant du SNMG en fonction de la date;\n",
      " |  - Calculer les montants d'indemnités en fonction des 04 périodes;\n",
      " |  - Calculer les montants de cotisations de sécurité sociale (part patronale & part salariale );\n",
      " |  \n",
      " |  Parameters\n",
      " |  ----------\n",
      " |  \n",
      " |  DateRecrutement : date, \n",
      " |      C'est de la date de recrutement du salarié chez le dernier employeur.\n",
      " |      Elle doit être exprimé selon le format : dd/mm/yyyy.\n",
      " |  \n",
      " |  \n",
      " |  DateCompression : date,\n",
      " |      C'est la de compression du salarié chez le dernier employeur.\n",
      " |      Elle doit être exprimé selon le format : dd/mm/yyyy.\n",
      " |  \n",
      " |  \n",
      " |  SMM : float,\n",
      " |      C'est le Salaire Mensuel Moyen des 12 derniers mois.\n",
      " |      Il doit être exprimé en DA et concerne la moyenne des salaires soumis à cotisation de sécurité sociale des 12 derniers mois.\n",
      " |  \n",
      " |  \n",
      " |  Attributes\n",
      " |  ----------\n",
      " |  \n",
      " |  annee : int,\n",
      " |      C'est la durée d'experience en année;\n",
      " |  \n",
      " |  mois : int,\n",
      " |      C'est la durée d'experience en mois lorsque la période est inferieure à une année;\n",
      " |  \n",
      " |  jours : int,\n",
      " |      C'est la durée d'experience en jours lorsque la période est inferieure à un mois;\n",
      " |  \n",
      " |  Methods defined here:\n",
      " |  \n",
      " |  Cal_COD(self)\n",
      " |      Calcule le montant de contribution forfetaire d'ouverture de droits mensuelle et totale (COD) à la charge de l'employeur.\n",
      " |      \n",
      " |      Parameters\n",
      " |      ----------\n",
      " |      None\n",
      " |      \n",
      " |      Returns\n",
      " |      -------\n",
      " |      CODMensuel : COD mensuelle.\n",
      " |      CODTotale : COD Totale à payer par l'employeur.\n",
      " |  \n",
      " |  Cal_DPC(self)\n",
      " |      Calcule la Durée de Prise en Charge DPC en nombre de mois.\n",
      " |      \n",
      " |      Parameters\n",
      " |      ----------\n",
      " |      None.\n",
      " |      \n",
      " |      Returns\n",
      " |      -------\n",
      " |      dpc : Durée de prise en charge en nombre de mois.\n",
      " |  \n",
      " |  Cal_DateAdmission(self, Mois=1)\n",
      " |      Calcule une date admission en fonction de la date fournie (dateCompression) et de nombre de mois a rajouter.\n",
      " |      \n",
      " |      Parameters\n",
      " |      ----------\n",
      " |      Mois : int, default 1.\n",
      " |      Le nombre de mois a rajouter aprés la date de compression.\n",
      " |      \n",
      " |      Returns\n",
      " |      -------\n",
      " |      DateAdmission : Une date d'admission théorique.\n",
      " |  \n",
      " |  Cal_DateFDD(self, DateMois)\n",
      " |      Calcul la date de fin de droits théorique en fonction du clendrier de paiements des indemnités.\n",
      " |      \n",
      " |      \n",
      " |      Parameters\n",
      " |      ----------\n",
      " |      DateMois : dict.\n",
      " |      Un dictionnaire {Numero periode : Numero mois}.\n",
      " |      \n",
      " |      Returns\n",
      " |      -------\n",
      " |      La date de fin de droits théorique.\n",
      " |      Elle représente le dernier mois de paiement de l'indemnité.\n",
      " |  \n",
      " |  Cal_Durexp(self)\n",
      " |  \n",
      " |  Cal_Indemnite(self, MoisPeriode, snmg, SalRef, DateAdmission)\n",
      " |      Calcul plusieurs élements relatives au calendrier des indemnités à percevoir par le salarié tel que :\n",
      " |       - Dates : les dates de paiement des indemnités en focntion de la date d'admission théorique.\n",
      " |       - Indemnites Brutes : Les montants des indemnités brutes.\n",
      " |       - Indemnites Netes : Les montants des indemnités nettes.\n",
      " |       - Part Patronale : Les montants de la part patronale à la charge de la CNAC\n",
      " |      \n",
      " |      \n",
      " |      Parameters\n",
      " |      ----------\n",
      " |      - MoisPeriode : dict, \n",
      " |          Un dictionnaire {Numero periode : Numero mois}.\n",
      " |      - snmg :  float,\n",
      " |          Le Salaire National Minimum Garanti.\n",
      " |      - SalRef : float,\n",
      " |          Le salaire de référence.\n",
      " |      - DateAdmission : str.\n",
      " |          La date admission théorique.\n",
      " |      \n",
      " |      Returns\n",
      " |      -------\n",
      " |      - DateMois :les dates de paiement des indemnités en focntion de la date d'admission théorique.\n",
      " |      - IndemniteBrut : Les montants des indemnités brutes.\n",
      " |      - IndemniteNet : Les montants des indemnités nettes.\n",
      " |      - PartPatronale : Les montants de la part patronale à la charge de la CNAC.\n",
      " |  \n",
      " |  Cal_NumPeriode(self, dpc)\n",
      " |      Renvoi un dictionnaire qui comporte le numero de la période de prise en charge (de 1 a 4) ainsi que les numéros des mois (de 1 a dpc)\n",
      " |      qui appartienne a chaque periode.\n",
      " |      \n",
      " |      Parameters\n",
      " |      ----------\n",
      " |      dpc : int.\n",
      " |      La durée de prise en charge.\n",
      " |      \n",
      " |      Returns\n",
      " |      -------\n",
      " |      Un dictionnaire {Numero periode : Numero mois}.\n",
      " |  \n",
      " |  Cal_SNMG(self, Date)\n",
      " |      Renvoie le Salaire National Minimum Garanti en fonction de la date fournie.\n",
      " |      \n",
      " |      Parameters\n",
      " |      ----------\n",
      " |      Date : str.\n",
      " |      Une date au format texte --> \"dd/mm/yyyy\".\n",
      " |      \n",
      " |      Returns\n",
      " |      -------\n",
      " |      Le Salaire National Minimum Garanti.\n",
      " |  \n",
      " |  Cal_SalRef(self, snmg)\n",
      " |      Calcul le Salaire de référence qui est calculé sur la base du Salaire mensuel moyen et le Salaire National Minimum Garanti.\n",
      " |      \n",
      " |      \n",
      " |      Parameters\n",
      " |      ----------\n",
      " |      snmg : float.\n",
      " |      Le Salaire National Minimum Garanti.\n",
      " |      \n",
      " |      Returns\n",
      " |      -------\n",
      " |      Le Salaire de référence.\n",
      " |  \n",
      " |  Message_admission(self)\n",
      " |      Renvoie un message aprés verification des conditions d'admission relatives a la durée d'experience professionnelle en annee, mois et jours.\n",
      " |      \n",
      " |      Parameters\n",
      " |      ----------\n",
      " |      None.\n",
      " |      \n",
      " |      Returns\n",
      " |      -------\n",
      " |      admission : Un message selon le cas : \"Admis\", \"Ajourne\" et \"Non admis.\n",
      " |  \n",
      " |  Verif_admission(self)\n",
      " |      Verifie les conditions d'admissions relatives a la durée d'experience professionnelle en année, mois et jours.\n",
      " |      \n",
      " |      Parameters\n",
      " |      ----------\n",
      " |      None.\n",
      " |      \n",
      " |      Returns\n",
      " |      -------\n",
      " |      admission : Une valeur string qui prend 03 possibilites : \n",
      " |                  \"Admis\"--> Le salarié remplis les conditions relative a la durée d'experience professionnelle.\n",
      " |                  \"Ajourne\"--> Il faut verifier si le salarie a cumulé 03 ans de cotisations chez d'autres employeurs.\n",
      " |                  \"Non Admis\" --> Le salarié n'a pas atteint le minimum de 06 mois de d'experience chez le dernier employeur.\n",
      " |  \n",
      " |  __init__(self, DateRecrutement, DateCompression, SMM)\n",
      " |      Initialize self.  See help(type(self)) for accurate signature.\n",
      " |  \n",
      " |  tableaux_Indemnites(self, MoisPeriode, DateMois, IndemniteBrut, IndemniteNet, PartPatronale)\n",
      " |      Renvoie un DataFrame comportant le detail du calendrier des paiements des indemnites.\n",
      " |      \n",
      " |      Parameters\n",
      " |      ----------\n",
      " |      - MoisPeriode : dict, \n",
      " |          Un dictionnaire {Numero periode : Numero mois}.\n",
      " |      - DateMois :  str,\n",
      " |          Les dates de paiement des indemnités en focntion de la date d'admission théorique.\n",
      " |      - IndemniteBrut : float,\n",
      " |          Les montants des indemnités brutes.\n",
      " |      - IndemniteNet : float.\n",
      " |          Les montants des indemnités nettes.\n",
      " |      - PartPatronale : float.\n",
      " |          Les montants de la part patronale à la charge de la CNAC.\n",
      " |      \n",
      " |      Returns\n",
      " |      -------\n",
      " |      Un DataFrame.\n",
      " |  \n",
      " |  ----------------------------------------------------------------------\n",
      " |  Data descriptors defined here:\n",
      " |  \n",
      " |  __dict__\n",
      " |      dictionary for instance variables (if defined)\n",
      " |  \n",
      " |  __weakref__\n",
      " |      list of weak references to the object (if defined)\n",
      "\n"
     ]
    }
   ],
   "source": [
    "help(RAC)"
   ]
  },
  {
   "cell_type": "code",
   "execution_count": 21,
   "id": "79f77bd1",
   "metadata": {},
   "outputs": [],
   "source": [
    "# Déclaration des paramètres\n",
    "\n",
    "dateRecrutement = '11/02/2015'\n",
    "dateCompression =  '15/02/2021'\n",
    "smm = float(60000)\n"
   ]
  },
  {
   "cell_type": "code",
   "execution_count": 22,
   "id": "1e848c0e",
   "metadata": {},
   "outputs": [],
   "source": [
    "# Instanciation de l'objet simulation\n",
    "simul = RAC(dateRecrutement, dateCompression, smm) "
   ]
  },
  {
   "cell_type": "code",
   "execution_count": 23,
   "id": "357f644d",
   "metadata": {},
   "outputs": [
    {
     "name": "stdout",
     "output_type": "stream",
     "text": [
      "Votre expérience calculée est égale à 6 an(s), 0 moi(s) & 4 jour(s)\n"
     ]
    }
   ],
   "source": [
    "# Calcul de la durée d'experience\n",
    "simul.Cal_Durexp()\n",
    "dureeExperienceAnnee = simul.annee\n",
    "dureeExperienceMois = simul.mois\n",
    "dureeExperienceJours = simul.jours\n",
    "dureeExperienceValidee = f\"Votre expérience calculée est égale à {dureeExperienceAnnee} an(s), {dureeExperienceMois} moi(s) & {dureeExperienceJours} jour(s)\"\n",
    "\n",
    "print(dureeExperienceValidee)"
   ]
  },
  {
   "cell_type": "code",
   "execution_count": 24,
   "id": "df88c093",
   "metadata": {},
   "outputs": [
    {
     "name": "stdout",
     "output_type": "stream",
     "text": [
      "Admis\n",
      "Si vous remplissez les conditions prealablement citees et selon votre experience professionnelle calculee, vous pouvez beneficier du Regime Assurance Chomage.\n"
     ]
    }
   ],
   "source": [
    "# Vérification de l'admission\n",
    "admission = simul.Verif_admission()\n",
    "admissionMessage = simul.Message_admission()\n",
    "print(admission)\n",
    "print(admissionMessage)"
   ]
  },
  {
   "cell_type": "code",
   "execution_count": 40,
   "id": "ee5b25c9",
   "metadata": {},
   "outputs": [
    {
     "name": "stdout",
     "output_type": "stream",
     "text": [
      "15/03/2021\n"
     ]
    }
   ],
   "source": [
    "# Calcul de la date d'admission (théorique)\n",
    "dateAdmission = simul.Cal_DateAdmission()\n",
    "\n",
    "print(dateAdmission.strftime(\"%d/%m/%Y\"))"
   ]
  },
  {
   "cell_type": "code",
   "execution_count": 26,
   "id": "320941a2",
   "metadata": {},
   "outputs": [
    {
     "name": "stdout",
     "output_type": "stream",
     "text": [
      "13\n"
     ]
    }
   ],
   "source": [
    "# Calcul de la durée de prise en charge en mois\n",
    "dpc = simul.Cal_DPC()\n",
    "\n",
    "print(str(dpc))"
   ]
  },
  {
   "cell_type": "code",
   "execution_count": 27,
   "id": "b633a985",
   "metadata": {},
   "outputs": [
    {
     "name": "stdout",
     "output_type": "stream",
     "text": [
      "48000.0\n"
     ]
    }
   ],
   "source": [
    "# Calcul de la COD mensuel\n",
    "codMensuel = simul.Cal_COD()[0]\n",
    "\n",
    "print(codMensuel)"
   ]
  },
  {
   "cell_type": "code",
   "execution_count": 28,
   "id": "c174d190",
   "metadata": {},
   "outputs": [
    {
     "name": "stdout",
     "output_type": "stream",
     "text": [
      "168000.0\n"
     ]
    }
   ],
   "source": [
    "# Calcul de la COD totale\n",
    "codTotale= simul.Cal_COD()[1]\n",
    "\n",
    "print(codTotale)"
   ]
  },
  {
   "cell_type": "code",
   "execution_count": 33,
   "id": "121772ff",
   "metadata": {},
   "outputs": [
    {
     "name": "stdout",
     "output_type": "stream",
     "text": [
      "{1: 'P1', 2: 'P1', 3: 'P1', 4: 'P2', 5: 'P2', 6: 'P2', 7: 'P3', 8: 'P3', 9: 'P3', 10: 'P4', 11: 'P4', 12: 'P4', 13: 'P4'}\n"
     ]
    }
   ],
   "source": [
    "# Renvoi des 04 periodes et les mois y afferents\n",
    "MoisPeriode = simul.Cal_NumPeriode(dpc)\n",
    "\n",
    "print(MoisPeriode)"
   ]
  },
  {
   "cell_type": "code",
   "execution_count": 36,
   "id": "64474f9a",
   "metadata": {},
   "outputs": [
    {
     "name": "stdout",
     "output_type": "stream",
     "text": [
      "20000\n"
     ]
    }
   ],
   "source": [
    "# Renvoi le SNMG\n",
    "snmg = simul.Cal_SNMG(dateAdmission)\n",
    "\n",
    "print(snmg)"
   ]
  },
  {
   "cell_type": "code",
   "execution_count": 37,
   "id": "1c9a02b9",
   "metadata": {},
   "outputs": [
    {
     "name": "stdout",
     "output_type": "stream",
     "text": [
      "40000.0\n"
     ]
    }
   ],
   "source": [
    "# Renvoi le SNMG\n",
    "SalRef = simul.Cal_SalRef(snmg)\n",
    "\n",
    "print(SalRef)"
   ]
  },
  {
   "cell_type": "code",
   "execution_count": 41,
   "id": "256b6519",
   "metadata": {},
   "outputs": [
    {
     "name": "stdout",
     "output_type": "stream",
     "text": [
      "[datetime.datetime(2021, 4, 15, 0, 0), datetime.datetime(2021, 5, 15, 0, 0), datetime.datetime(2021, 6, 15, 0, 0), datetime.datetime(2021, 7, 15, 0, 0), datetime.datetime(2021, 8, 15, 0, 0), datetime.datetime(2021, 9, 15, 0, 0), datetime.datetime(2021, 10, 15, 0, 0), datetime.datetime(2021, 11, 15, 0, 0), datetime.datetime(2021, 12, 15, 0, 0), datetime.datetime(2022, 1, 15, 0, 0), datetime.datetime(2022, 2, 15, 0, 0), datetime.datetime(2022, 3, 15, 0, 0), datetime.datetime(2022, 4, 15, 0, 0)]\n",
      "[40000.0, 40000.0, 40000.0, 32000.0, 32000.0, 32000.0, 24000.0, 24000.0, 24000.0, 20000.0, 20000.0, 20000.0, 20000.0]\n",
      "[36600.0, 36600.0, 36600.0, 29280.0, 29280.0, 29280.0, 21960.0, 21960.0, 21960.0, 20000.0, 20000.0, 20000.0, 20000.0]\n",
      "[3000.0, 3000.0, 3000.0, 3000.0, 3000.0, 3000.0, 3000.0, 3000.0, 3000.0, 3000.0, 3000.0, 3000.0, 3000.0]\n"
     ]
    }
   ],
   "source": [
    "# Calcul les differents éléments du claendrier de paiement des indemnités\n",
    "DateMois = simul.Cal_Indemnite(MoisPeriode, snmg, SalRef, dateAdmission)[0]\n",
    "IndemniteBrut = simul.Cal_Indemnite(MoisPeriode, snmg, SalRef, dateAdmission)[1]\n",
    "IndemniteNet = simul.Cal_Indemnite(MoisPeriode, snmg, SalRef, dateAdmission)[2]\n",
    "PartPatronale = simul.Cal_Indemnite(MoisPeriode, snmg, SalRef, dateAdmission)[3]\n",
    "\n",
    "print(DateMois)\n",
    "print(IndemniteBrut)\n",
    "print(IndemniteNet)\n",
    "print(PartPatronale)"
   ]
  },
  {
   "cell_type": "code",
   "execution_count": 46,
   "id": "44c31417",
   "metadata": {},
   "outputs": [
    {
     "data": {
      "text/html": [
       "<div>\n",
       "<style scoped>\n",
       "    .dataframe tbody tr th:only-of-type {\n",
       "        vertical-align: middle;\n",
       "    }\n",
       "\n",
       "    .dataframe tbody tr th {\n",
       "        vertical-align: top;\n",
       "    }\n",
       "\n",
       "    .dataframe thead th {\n",
       "        text-align: right;\n",
       "    }\n",
       "</style>\n",
       "<table border=\"1\" class=\"dataframe\">\n",
       "  <thead>\n",
       "    <tr style=\"text-align: right;\">\n",
       "      <th></th>\n",
       "      <th>Periode</th>\n",
       "      <th>Mois</th>\n",
       "      <th>Date</th>\n",
       "      <th>Montant Indemnité Brut</th>\n",
       "      <th>Cotisation SS (PS)</th>\n",
       "      <th>Montant Indemnité Net</th>\n",
       "      <th>Cotisation SS (PP)</th>\n",
       "    </tr>\n",
       "  </thead>\n",
       "  <tbody>\n",
       "    <tr>\n",
       "      <th>0</th>\n",
       "      <td>P1</td>\n",
       "      <td>1</td>\n",
       "      <td>2021-04-15</td>\n",
       "      <td>40000.0</td>\n",
       "      <td>3400.0</td>\n",
       "      <td>36600.0</td>\n",
       "      <td>3000.0</td>\n",
       "    </tr>\n",
       "    <tr>\n",
       "      <th>1</th>\n",
       "      <td>P1</td>\n",
       "      <td>2</td>\n",
       "      <td>2021-05-15</td>\n",
       "      <td>40000.0</td>\n",
       "      <td>3400.0</td>\n",
       "      <td>36600.0</td>\n",
       "      <td>3000.0</td>\n",
       "    </tr>\n",
       "    <tr>\n",
       "      <th>2</th>\n",
       "      <td>P1</td>\n",
       "      <td>3</td>\n",
       "      <td>2021-06-15</td>\n",
       "      <td>40000.0</td>\n",
       "      <td>3400.0</td>\n",
       "      <td>36600.0</td>\n",
       "      <td>3000.0</td>\n",
       "    </tr>\n",
       "    <tr>\n",
       "      <th>3</th>\n",
       "      <td>P2</td>\n",
       "      <td>4</td>\n",
       "      <td>2021-07-15</td>\n",
       "      <td>32000.0</td>\n",
       "      <td>2720.0</td>\n",
       "      <td>29280.0</td>\n",
       "      <td>3000.0</td>\n",
       "    </tr>\n",
       "    <tr>\n",
       "      <th>4</th>\n",
       "      <td>P2</td>\n",
       "      <td>5</td>\n",
       "      <td>2021-08-15</td>\n",
       "      <td>32000.0</td>\n",
       "      <td>2720.0</td>\n",
       "      <td>29280.0</td>\n",
       "      <td>3000.0</td>\n",
       "    </tr>\n",
       "    <tr>\n",
       "      <th>5</th>\n",
       "      <td>P2</td>\n",
       "      <td>6</td>\n",
       "      <td>2021-09-15</td>\n",
       "      <td>32000.0</td>\n",
       "      <td>2720.0</td>\n",
       "      <td>29280.0</td>\n",
       "      <td>3000.0</td>\n",
       "    </tr>\n",
       "    <tr>\n",
       "      <th>6</th>\n",
       "      <td>P3</td>\n",
       "      <td>7</td>\n",
       "      <td>2021-10-15</td>\n",
       "      <td>24000.0</td>\n",
       "      <td>2040.0</td>\n",
       "      <td>21960.0</td>\n",
       "      <td>3000.0</td>\n",
       "    </tr>\n",
       "    <tr>\n",
       "      <th>7</th>\n",
       "      <td>P3</td>\n",
       "      <td>8</td>\n",
       "      <td>2021-11-15</td>\n",
       "      <td>24000.0</td>\n",
       "      <td>2040.0</td>\n",
       "      <td>21960.0</td>\n",
       "      <td>3000.0</td>\n",
       "    </tr>\n",
       "    <tr>\n",
       "      <th>8</th>\n",
       "      <td>P3</td>\n",
       "      <td>9</td>\n",
       "      <td>2021-12-15</td>\n",
       "      <td>24000.0</td>\n",
       "      <td>2040.0</td>\n",
       "      <td>21960.0</td>\n",
       "      <td>3000.0</td>\n",
       "    </tr>\n",
       "    <tr>\n",
       "      <th>9</th>\n",
       "      <td>P4</td>\n",
       "      <td>10</td>\n",
       "      <td>2022-01-15</td>\n",
       "      <td>20000.0</td>\n",
       "      <td>0.0</td>\n",
       "      <td>20000.0</td>\n",
       "      <td>3000.0</td>\n",
       "    </tr>\n",
       "    <tr>\n",
       "      <th>10</th>\n",
       "      <td>P4</td>\n",
       "      <td>11</td>\n",
       "      <td>2022-02-15</td>\n",
       "      <td>20000.0</td>\n",
       "      <td>0.0</td>\n",
       "      <td>20000.0</td>\n",
       "      <td>3000.0</td>\n",
       "    </tr>\n",
       "    <tr>\n",
       "      <th>11</th>\n",
       "      <td>P4</td>\n",
       "      <td>12</td>\n",
       "      <td>2022-03-15</td>\n",
       "      <td>20000.0</td>\n",
       "      <td>0.0</td>\n",
       "      <td>20000.0</td>\n",
       "      <td>3000.0</td>\n",
       "    </tr>\n",
       "    <tr>\n",
       "      <th>12</th>\n",
       "      <td>P4</td>\n",
       "      <td>13</td>\n",
       "      <td>2022-04-15</td>\n",
       "      <td>20000.0</td>\n",
       "      <td>0.0</td>\n",
       "      <td>20000.0</td>\n",
       "      <td>3000.0</td>\n",
       "    </tr>\n",
       "  </tbody>\n",
       "</table>\n",
       "</div>"
      ],
      "text/plain": [
       "   Periode  Mois       Date  Montant Indemnité Brut  Cotisation SS (PS)   \n",
       "0       P1     1 2021-04-15                 40000.0              3400.0  \\\n",
       "1       P1     2 2021-05-15                 40000.0              3400.0   \n",
       "2       P1     3 2021-06-15                 40000.0              3400.0   \n",
       "3       P2     4 2021-07-15                 32000.0              2720.0   \n",
       "4       P2     5 2021-08-15                 32000.0              2720.0   \n",
       "5       P2     6 2021-09-15                 32000.0              2720.0   \n",
       "6       P3     7 2021-10-15                 24000.0              2040.0   \n",
       "7       P3     8 2021-11-15                 24000.0              2040.0   \n",
       "8       P3     9 2021-12-15                 24000.0              2040.0   \n",
       "9       P4    10 2022-01-15                 20000.0                 0.0   \n",
       "10      P4    11 2022-02-15                 20000.0                 0.0   \n",
       "11      P4    12 2022-03-15                 20000.0                 0.0   \n",
       "12      P4    13 2022-04-15                 20000.0                 0.0   \n",
       "\n",
       "    Montant Indemnité Net  Cotisation SS (PP)  \n",
       "0                 36600.0              3000.0  \n",
       "1                 36600.0              3000.0  \n",
       "2                 36600.0              3000.0  \n",
       "3                 29280.0              3000.0  \n",
       "4                 29280.0              3000.0  \n",
       "5                 29280.0              3000.0  \n",
       "6                 21960.0              3000.0  \n",
       "7                 21960.0              3000.0  \n",
       "8                 21960.0              3000.0  \n",
       "9                 20000.0              3000.0  \n",
       "10                20000.0              3000.0  \n",
       "11                20000.0              3000.0  \n",
       "12                20000.0              3000.0  "
      ]
     },
     "execution_count": 46,
     "metadata": {},
     "output_type": "execute_result"
    }
   ],
   "source": [
    "# Afficher le tableau relatif au calendrier de paiement des indemnités\n",
    "tableau = simul.tableaux_Indemnites(MoisPeriode, DateMois, IndemniteBrut, IndemniteNet, PartPatronale)\n",
    "tableau"
   ]
  },
  {
   "cell_type": "code",
   "execution_count": 47,
   "id": "2771482a",
   "metadata": {},
   "outputs": [
    {
     "name": "stdout",
     "output_type": "stream",
     "text": [
      "15/04/2022\n"
     ]
    }
   ],
   "source": [
    "# Calcul de la date de fin de droit\n",
    "dateFDD = simul.Cal_DateFDD(DateMois)\n",
    "\n",
    "print(dateFDD.strftime(\"%d/%m/%Y\"))"
   ]
  }
 ],
 "metadata": {
  "kernelspec": {
   "display_name": "Python 3",
   "language": "python",
   "name": "python3"
  },
  "language_info": {
   "codemirror_mode": {
    "name": "ipython",
    "version": 3
   },
   "file_extension": ".py",
   "mimetype": "text/x-python",
   "name": "python",
   "nbconvert_exporter": "python",
   "pygments_lexer": "ipython3",
   "version": "3.8.10"
  }
 },
 "nbformat": 4,
 "nbformat_minor": 5
}
