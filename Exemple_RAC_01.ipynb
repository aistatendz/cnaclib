{
 "cells": [
  {
   "cell_type": "markdown",
   "id": "b5ee9df5",
   "metadata": {},
   "source": [
    "# Régime d'Assurance Chômage (RAC)"
   ]
  },
  {
   "cell_type": "markdown",
   "id": "27be0a3f",
   "metadata": {},
   "source": [
    "## Simulation RAC sans retraite anticipée"
   ]
  },
  {
   "cell_type": "code",
   "execution_count": 1,
   "id": "498bbd44",
   "metadata": {},
   "outputs": [],
   "source": [
    "# Chargement des librairies\n",
    "from cnaclib.rac import RAC\n",
    "import pandas as pd\n",
    "from datetime import datetime\n",
    "import os"
   ]
  },
  {
   "cell_type": "code",
   "execution_count": 2,
   "id": "dfdcc0cd",
   "metadata": {},
   "outputs": [
    {
     "name": "stdout",
     "output_type": "stream",
     "text": [
      "Help on class RAC in module cnaclib.rac:\n",
      "\n",
      "class RAC(builtins.object)\n",
      " |  RAC(DateRecrutement, DateCompression, SMM)\n",
      " |  \n",
      " |  REGIME ASSURANCE CHOMAGE : SIMULATEUR\n",
      " |  \n",
      " |  Cette Class en python permet de réaliser des simulations pour le calculs des différents éléments liés au régime d'assurance chômage.\n",
      " |  Elle permet de :\n",
      " |  - Vérifier la condition d'admission relative à l'experience professionnelle;\n",
      " |  - Calculer la durée de prise en charge (DPC);\n",
      " |  - Calculer le montant de la Contribution d'Ouverture de Droits;\n",
      " |  - Récupérer le montant du SNMG en fonction de la date;\n",
      " |  - Calculer les montants d'indemnités en fonction des 04 périodes;\n",
      " |  - Calculer les montants de cotisations de sécurité sociale (part patronale & part salariale );\n",
      " |  \n",
      " |  Parameters\n",
      " |  ----------\n",
      " |  \n",
      " |  DateRecrutement : date, \n",
      " |      C'est de la date de recrutement du salarié chez le dernier employeur.\n",
      " |      Elle doit être exprimé selon le format : dd/mm/yyyy.\n",
      " |  \n",
      " |  \n",
      " |  DateCompression : date,\n",
      " |      C'est la de compression du salarié chez le dernier employeur.\n",
      " |      Elle doit être exprimé selon le format : dd/mm/yyyy.\n",
      " |  \n",
      " |  \n",
      " |  SMM : float,\n",
      " |      C'est le Salaire Mensuel Moyen des 12 derniers mois.\n",
      " |      Il doit être exprimé en DA et concerne la moyenne des salaires soumis à cotisation de sécurité sociale des 12 derniers mois.\n",
      " |  \n",
      " |  \n",
      " |  Attributes\n",
      " |  ----------\n",
      " |  \n",
      " |  annee : int,\n",
      " |      C'est la durée d'experience en année;\n",
      " |  \n",
      " |  mois : int,\n",
      " |      C'est la durée d'experience en mois lorsque la période est inferieure à une année;\n",
      " |  \n",
      " |  jours : int,\n",
      " |      C'est la durée d'experience en jours lorsque la période est inferieure à un mois;\n",
      " |  \n",
      " |  message : string,\n",
      " |      C'est le message affiché aprés vérification de la condition d'admission relative à la durée d'experience professionnelle.\n",
      " |      Il y a 03 types de messages selon les paramétres annee, mois & jours.\n",
      " |  \n",
      " |  DateAdmission : date,\n",
      " |      C'est une date calculée pour les besoins de la simulation.\n",
      " |      Elle représente la date d'admission (thérique) au régime d'assurance chomage. \n",
      " |      Elle permet de confectionner le tableau des indemnités selon les 04 période;\n",
      " |      Elle permet aussi de vérifier la condition d'âge pour le versement au régime de la retraite anticipée.\n",
      " |  \n",
      " |  DPC : int,\n",
      " |      C'est la durée (calculée) de prise en charge. \n",
      " |      Elle est exprimée en mois et représente le nombre de mois qui seront payés par la CNAC en termes d'indemnités.\n",
      " |      Elle est comprise entre 12 et 36 mois.\n",
      " |  \n",
      " |  CODMensuel : float,\n",
      " |      C'est le montant calculée de la contribution forfétaire d'ouverture de droits mensuelle.\n",
      " |  \n",
      " |  CODTotale : float,\n",
      " |      C'est le montant calculée de la contribution forfétaire d'ouverture de droits totale.\n",
      " |      C'est le montant à la charge de l'employeur pour l'ouverture des droits de son ou ses salariés.\n",
      " |  \n",
      " |  MoisPeriode : int,\n",
      " |      C'est le nombre de mois pour chaque période sachant qu'il y a 04 périodes.\n",
      " |  \n",
      " |  DateMois : date,\n",
      " |      C'est la date relative à chaque indemnité figurant sur le tableau des indemnités.\n",
      " |      Donc pour chaque MoisPeriode il y a une DateMois.\n",
      " |  \n",
      " |  IndemniteBrut : float,\n",
      " |      C'est le montant de l'indemnité brute pour chaque DateMois igurant sur le tableau des indemnités.\n",
      " |      \n",
      " |  IndemniteNet : float,\n",
      " |      C'est le montant de l'indemnité nette pour chaque DateMois igurant sur le tableau des indemnités.\n",
      " |      Il est égal à IndemniteBrut - PartSalariale.\n",
      " |  \n",
      " |  PartPatronale : float,\n",
      " |      C'est le montant de la cotisation de sécurié sociale à la charge de la CNAC.\n",
      " |  \n",
      " |  SalRef : float,\n",
      " |      C'est la salaire de référence. Il est égal au (SMM + SNMG) /2.\n",
      " |      Il permet de calculer les montants des indemnités. \n",
      " |  \n",
      " |  FDD : date;\n",
      " |      C'est la date (calculée) de fin de droits.\n",
      " |      Elle représente le dernier mois de paiement de l'indemnité.\n",
      " |  \n",
      " |  Methods defined here:\n",
      " |  \n",
      " |  COD(self)\n",
      " |  \n",
      " |  DPC(self)\n",
      " |  \n",
      " |  Date_FDD(self)\n",
      " |  \n",
      " |  Indemnite(self)\n",
      " |  \n",
      " |  NumPeriode(self)\n",
      " |  \n",
      " |  SNMG(self, Date)\n",
      " |  \n",
      " |  __init__(self, DateRecrutement, DateCompression, SMM)\n",
      " |      Initialize self.  See help(type(self)) for accurate signature.\n",
      " |  \n",
      " |  admission(self)\n",
      " |  \n",
      " |  durexp(self)\n",
      " |  \n",
      " |  tableaux_Indemnites(self)\n",
      " |  \n",
      " |  ----------------------------------------------------------------------\n",
      " |  Data descriptors defined here:\n",
      " |  \n",
      " |  __dict__\n",
      " |      dictionary for instance variables (if defined)\n",
      " |  \n",
      " |  __weakref__\n",
      " |      list of weak references to the object (if defined)\n",
      "\n"
     ]
    }
   ],
   "source": [
    "help(RAC)"
   ]
  },
  {
   "cell_type": "code",
   "execution_count": 39,
   "id": "79f77bd1",
   "metadata": {},
   "outputs": [],
   "source": [
    "# Déclaration des paramètres\n",
    "\n",
    "dateRecrutement = '11/02/2021'\n",
    "dateCompression =  '15/02/2021'\n",
    "smm = float(60000)\n"
   ]
  },
  {
   "cell_type": "code",
   "execution_count": 40,
   "id": "1e848c0e",
   "metadata": {},
   "outputs": [],
   "source": [
    "# Instanciation de l'objet simulation\n",
    "simul = RAC(dateRecrutement, dateCompression, smm) "
   ]
  },
  {
   "cell_type": "code",
   "execution_count": 41,
   "id": "357f644d",
   "metadata": {},
   "outputs": [
    {
     "name": "stdout",
     "output_type": "stream",
     "text": [
      "Votre expérience calculée est égale à 0 an(s), 0 moi(s) & 4 jour(s)\n"
     ]
    }
   ],
   "source": [
    "# Calcul de la durée d'experience \n",
    "dureeExperienceAnnee = simul.durexp()[0]\n",
    "dureeExperienceMois = simul.durexp()[1]\n",
    "dureeExperienceJours = simul.durexp()[2]\n",
    "dureeExperienceValidee = f\"Votre expérience calculée est égale à {dureeExperienceAnnee} an(s), {dureeExperienceMois} moi(s) & {dureeExperienceJours} jour(s)\"\n",
    "\n",
    "print(dureeExperienceValidee)"
   ]
  },
  {
   "cell_type": "code",
   "execution_count": 42,
   "id": "df88c093",
   "metadata": {},
   "outputs": [
    {
     "name": "stdout",
     "output_type": "stream",
     "text": [
      "Selon votre expérience calculée, vous ne pouvez pas bénéficier du RAC \n"
     ]
    }
   ],
   "source": [
    "# Vérification de l'admission\n",
    "admission = simul.admission()[0]\n",
    "\n",
    "print(admission)"
   ]
  },
  {
   "cell_type": "code",
   "execution_count": 43,
   "id": "ee5b25c9",
   "metadata": {},
   "outputs": [
    {
     "name": "stdout",
     "output_type": "stream",
     "text": [
      "15/03/2021\n"
     ]
    }
   ],
   "source": [
    "# Calcul de la date d'admission (théorique)\n",
    "dateAdmission = simul.admission()[1].strftime(\"%d/%m/%Y\")\n",
    "\n",
    "print(dateAdmission)"
   ]
  },
  {
   "cell_type": "code",
   "execution_count": 44,
   "id": "320941a2",
   "metadata": {},
   "outputs": [
    {
     "name": "stdout",
     "output_type": "stream",
     "text": [
      "None\n"
     ]
    }
   ],
   "source": [
    "# Calcul de la durée de prise en charge en mois\n",
    "dpc = simul.DPC()\n",
    "\n",
    "print(str(dpc))"
   ]
  },
  {
   "cell_type": "code",
   "execution_count": 49,
   "id": "b633a985",
   "metadata": {},
   "outputs": [
    {
     "name": "stdout",
     "output_type": "stream",
     "text": [
      "Selon votre expérience calculée, vous ne pouvez pas bénéficier du RAC\n"
     ]
    },
    {
     "ename": "NameError",
     "evalue": "name 'exit' is not defined",
     "output_type": "error",
     "traceback": [
      "\u001b[1;31m---------------------------------------------------------------------------\u001b[0m",
      "\u001b[1;31mNameError\u001b[0m                                 Traceback (most recent call last)",
      "\u001b[1;32m<ipython-input-49-bbe133c97053>\u001b[0m in \u001b[0;36m<module>\u001b[1;34m\u001b[0m\n\u001b[0;32m      1\u001b[0m \u001b[1;31m# Calcul de la COD mensuel\u001b[0m\u001b[1;33m\u001b[0m\u001b[1;33m\u001b[0m\u001b[1;33m\u001b[0m\u001b[0m\n\u001b[1;32m----> 2\u001b[1;33m \u001b[0mcodMensuel\u001b[0m \u001b[1;33m=\u001b[0m \u001b[0msimul\u001b[0m\u001b[1;33m.\u001b[0m\u001b[0mCOD\u001b[0m\u001b[1;33m(\u001b[0m\u001b[1;33m)\u001b[0m\u001b[1;33m[\u001b[0m\u001b[1;36m0\u001b[0m\u001b[1;33m]\u001b[0m\u001b[1;33m\u001b[0m\u001b[1;33m\u001b[0m\u001b[0m\n\u001b[0m\u001b[0;32m      3\u001b[0m \u001b[1;33m\u001b[0m\u001b[0m\n\u001b[0;32m      4\u001b[0m \u001b[0mprint\u001b[0m\u001b[1;33m(\u001b[0m\u001b[0mcodMensuel\u001b[0m\u001b[1;33m)\u001b[0m\u001b[1;33m\u001b[0m\u001b[1;33m\u001b[0m\u001b[0m\n",
      "\u001b[1;32m~\\Documents\\Pratique AI\\Nadir_Class\\Python_Exo\\CNACLIB\\cnaclib\\rac.py\u001b[0m in \u001b[0;36mCOD\u001b[1;34m(self)\u001b[0m\n\u001b[0;32m    166\u001b[0m         \u001b[1;32mif\u001b[0m \u001b[0mself\u001b[0m\u001b[1;33m.\u001b[0m\u001b[0mmessage\u001b[0m \u001b[1;33m==\u001b[0m \u001b[1;34m\"Selon votre expérience calculée, vous ne pouvez pas bénéficier du RAC \"\u001b[0m\u001b[1;33m:\u001b[0m\u001b[1;33m\u001b[0m\u001b[1;33m\u001b[0m\u001b[0m\n\u001b[0;32m    167\u001b[0m             \u001b[0mprint\u001b[0m\u001b[1;33m(\u001b[0m\u001b[1;34m\"Selon votre expérience calculée, vous ne pouvez pas bénéficier du RAC\"\u001b[0m\u001b[1;33m)\u001b[0m\u001b[1;33m\u001b[0m\u001b[1;33m\u001b[0m\u001b[0m\n\u001b[1;32m--> 168\u001b[1;33m             \u001b[0mexit\u001b[0m\u001b[1;33m(\u001b[0m\u001b[1;33m)\u001b[0m\u001b[1;33m\u001b[0m\u001b[1;33m\u001b[0m\u001b[0m\n\u001b[0m\u001b[0;32m    169\u001b[0m \u001b[1;33m\u001b[0m\u001b[0m\n\u001b[0;32m    170\u001b[0m         \u001b[1;32melse\u001b[0m\u001b[1;33m:\u001b[0m\u001b[1;33m\u001b[0m\u001b[1;33m\u001b[0m\u001b[0m\n",
      "\u001b[1;31mNameError\u001b[0m: name 'exit' is not defined"
     ]
    }
   ],
   "source": [
    "# Calcul de la COD mensuel\n",
    "codMensuel = simul.COD()[0]\n",
    "\n",
    "print(codMensuel)"
   ]
  },
  {
   "cell_type": "code",
   "execution_count": 50,
   "id": "c174d190",
   "metadata": {},
   "outputs": [
    {
     "name": "stdout",
     "output_type": "stream",
     "text": [
      "Selon votre expérience calculée, vous ne pouvez pas bénéficier du RAC\n"
     ]
    },
    {
     "ename": "NameError",
     "evalue": "name 'exit' is not defined",
     "output_type": "error",
     "traceback": [
      "\u001b[1;31m---------------------------------------------------------------------------\u001b[0m",
      "\u001b[1;31mNameError\u001b[0m                                 Traceback (most recent call last)",
      "\u001b[1;32m<ipython-input-50-11a5d6dd0b74>\u001b[0m in \u001b[0;36m<module>\u001b[1;34m\u001b[0m\n\u001b[0;32m      1\u001b[0m \u001b[1;31m# Calcul de la COD totale\u001b[0m\u001b[1;33m\u001b[0m\u001b[1;33m\u001b[0m\u001b[1;33m\u001b[0m\u001b[0m\n\u001b[1;32m----> 2\u001b[1;33m \u001b[0mcodTotale\u001b[0m \u001b[1;33m=\u001b[0m \u001b[0msimul\u001b[0m\u001b[1;33m.\u001b[0m\u001b[0mCOD\u001b[0m\u001b[1;33m(\u001b[0m\u001b[1;33m)\u001b[0m\u001b[1;33m[\u001b[0m\u001b[1;36m1\u001b[0m\u001b[1;33m]\u001b[0m\u001b[1;33m\u001b[0m\u001b[1;33m\u001b[0m\u001b[0m\n\u001b[0m\u001b[0;32m      3\u001b[0m \u001b[1;33m\u001b[0m\u001b[0m\n\u001b[0;32m      4\u001b[0m \u001b[0mprint\u001b[0m\u001b[1;33m(\u001b[0m\u001b[0mcodTotale\u001b[0m\u001b[1;33m)\u001b[0m\u001b[1;33m\u001b[0m\u001b[1;33m\u001b[0m\u001b[0m\n",
      "\u001b[1;32m~\\Documents\\Pratique AI\\Nadir_Class\\Python_Exo\\CNACLIB\\cnaclib\\rac.py\u001b[0m in \u001b[0;36mCOD\u001b[1;34m(self)\u001b[0m\n\u001b[0;32m    166\u001b[0m         \u001b[1;32mif\u001b[0m \u001b[0mself\u001b[0m\u001b[1;33m.\u001b[0m\u001b[0mmessage\u001b[0m \u001b[1;33m==\u001b[0m \u001b[1;34m\"Selon votre expérience calculée, vous ne pouvez pas bénéficier du RAC \"\u001b[0m\u001b[1;33m:\u001b[0m\u001b[1;33m\u001b[0m\u001b[1;33m\u001b[0m\u001b[0m\n\u001b[0;32m    167\u001b[0m             \u001b[0mprint\u001b[0m\u001b[1;33m(\u001b[0m\u001b[1;34m\"Selon votre expérience calculée, vous ne pouvez pas bénéficier du RAC\"\u001b[0m\u001b[1;33m)\u001b[0m\u001b[1;33m\u001b[0m\u001b[1;33m\u001b[0m\u001b[0m\n\u001b[1;32m--> 168\u001b[1;33m             \u001b[0mexit\u001b[0m\u001b[1;33m(\u001b[0m\u001b[1;33m)\u001b[0m\u001b[1;33m\u001b[0m\u001b[1;33m\u001b[0m\u001b[0m\n\u001b[0m\u001b[0;32m    169\u001b[0m \u001b[1;33m\u001b[0m\u001b[0m\n\u001b[0;32m    170\u001b[0m         \u001b[1;32melse\u001b[0m\u001b[1;33m:\u001b[0m\u001b[1;33m\u001b[0m\u001b[1;33m\u001b[0m\u001b[0m\n",
      "\u001b[1;31mNameError\u001b[0m: name 'exit' is not defined"
     ]
    }
   ],
   "source": [
    "# Calcul de la COD totale\n",
    "codTotale = simul.COD()[1]\n",
    "\n",
    "print(codTotale)"
   ]
  },
  {
   "cell_type": "code",
   "execution_count": 51,
   "id": "2771482a",
   "metadata": {},
   "outputs": [
    {
     "ename": "TypeError",
     "evalue": "unsupported operand type(s) for +: 'method' and 'int'",
     "output_type": "error",
     "traceback": [
      "\u001b[1;31m---------------------------------------------------------------------------\u001b[0m",
      "\u001b[1;31mTypeError\u001b[0m                                 Traceback (most recent call last)",
      "\u001b[1;32m<ipython-input-51-634aa1fbe378>\u001b[0m in \u001b[0;36m<module>\u001b[1;34m\u001b[0m\n\u001b[0;32m      1\u001b[0m \u001b[1;31m# Calcul de la date de fin de droit\u001b[0m\u001b[1;33m\u001b[0m\u001b[1;33m\u001b[0m\u001b[1;33m\u001b[0m\u001b[0m\n\u001b[1;32m----> 2\u001b[1;33m \u001b[0mdateFDD\u001b[0m \u001b[1;33m=\u001b[0m \u001b[0msimul\u001b[0m\u001b[1;33m.\u001b[0m\u001b[0mDate_FDD\u001b[0m\u001b[1;33m(\u001b[0m\u001b[1;33m)\u001b[0m\u001b[1;33m.\u001b[0m\u001b[0mstrftime\u001b[0m\u001b[1;33m(\u001b[0m\u001b[1;34m\"%d/%m/%Y\"\u001b[0m\u001b[1;33m)\u001b[0m\u001b[1;33m\u001b[0m\u001b[1;33m\u001b[0m\u001b[0m\n\u001b[0m\u001b[0;32m      3\u001b[0m \u001b[1;33m\u001b[0m\u001b[0m\n\u001b[0;32m      4\u001b[0m \u001b[0mprint\u001b[0m\u001b[1;33m(\u001b[0m\u001b[0mdateFDD\u001b[0m\u001b[1;33m)\u001b[0m\u001b[1;33m\u001b[0m\u001b[1;33m\u001b[0m\u001b[0m\n",
      "\u001b[1;32m~\\Documents\\Pratique AI\\Nadir_Class\\Python_Exo\\CNACLIB\\cnaclib\\rac.py\u001b[0m in \u001b[0;36mDate_FDD\u001b[1;34m(self)\u001b[0m\n\u001b[0;32m    324\u001b[0m         \u001b[0md\u001b[0m \u001b[1;33m=\u001b[0m \u001b[0mdatetime\u001b[0m\u001b[1;33m.\u001b[0m\u001b[0mstrptime\u001b[0m\u001b[1;33m(\u001b[0m\u001b[0mself\u001b[0m\u001b[1;33m.\u001b[0m\u001b[0mDateCompression\u001b[0m\u001b[1;33m,\u001b[0m\u001b[1;34m\"%d/%m/%Y\"\u001b[0m\u001b[1;33m)\u001b[0m\u001b[1;33m\u001b[0m\u001b[1;33m\u001b[0m\u001b[0m\n\u001b[0;32m    325\u001b[0m         \u001b[0mnextd\u001b[0m \u001b[1;33m=\u001b[0m \u001b[0md\u001b[0m \u001b[1;33m+\u001b[0m \u001b[0mrelativedelta\u001b[0m\u001b[1;33m.\u001b[0m\u001b[0mrelativedelta\u001b[0m\u001b[1;33m(\u001b[0m\u001b[0mmonths\u001b[0m\u001b[1;33m=\u001b[0m\u001b[1;36m1\u001b[0m\u001b[1;33m)\u001b[0m\u001b[1;33m\u001b[0m\u001b[1;33m\u001b[0m\u001b[0m\n\u001b[1;32m--> 326\u001b[1;33m         \u001b[0mRAC\u001b[0m\u001b[1;33m.\u001b[0m\u001b[0mIndemnite\u001b[0m\u001b[1;33m(\u001b[0m\u001b[0mself\u001b[0m\u001b[1;33m)\u001b[0m \u001b[1;31m# nextd.strftime(\"%d/%m/%Y\")\u001b[0m\u001b[1;33m\u001b[0m\u001b[1;33m\u001b[0m\u001b[0m\n\u001b[0m\u001b[0;32m    327\u001b[0m         \u001b[0mself\u001b[0m\u001b[1;33m.\u001b[0m\u001b[0mFDD\u001b[0m  \u001b[1;33m=\u001b[0m \u001b[0mself\u001b[0m\u001b[1;33m.\u001b[0m\u001b[0mDateMois\u001b[0m\u001b[1;33m[\u001b[0m\u001b[1;33m-\u001b[0m\u001b[1;36m1\u001b[0m\u001b[1;33m]\u001b[0m\u001b[1;33m\u001b[0m\u001b[1;33m\u001b[0m\u001b[0m\n\u001b[0;32m    328\u001b[0m         \u001b[1;32mreturn\u001b[0m \u001b[0mself\u001b[0m\u001b[1;33m.\u001b[0m\u001b[0mFDD\u001b[0m\u001b[1;33m\u001b[0m\u001b[1;33m\u001b[0m\u001b[0m\n",
      "\u001b[1;32m~\\Documents\\Pratique AI\\Nadir_Class\\Python_Exo\\CNACLIB\\cnaclib\\rac.py\u001b[0m in \u001b[0;36mIndemnite\u001b[1;34m(self)\u001b[0m\n\u001b[0;32m    240\u001b[0m \u001b[1;33m\u001b[0m\u001b[0m\n\u001b[0;32m    241\u001b[0m         \u001b[0mself\u001b[0m\u001b[1;33m.\u001b[0m\u001b[0mSalRef\u001b[0m \u001b[1;33m=\u001b[0m \u001b[1;33m(\u001b[0m\u001b[0mRAC\u001b[0m\u001b[1;33m.\u001b[0m\u001b[0mSNMG\u001b[0m\u001b[1;33m(\u001b[0m\u001b[0mself\u001b[0m\u001b[1;33m,\u001b[0m \u001b[0mself\u001b[0m\u001b[1;33m.\u001b[0m\u001b[0mDateAdmission\u001b[0m\u001b[1;33m)\u001b[0m \u001b[1;33m+\u001b[0m \u001b[0mfloat\u001b[0m\u001b[1;33m(\u001b[0m\u001b[0mself\u001b[0m\u001b[1;33m.\u001b[0m\u001b[0mSMM\u001b[0m\u001b[1;33m)\u001b[0m\u001b[1;33m)\u001b[0m \u001b[1;33m/\u001b[0m \u001b[1;36m2\u001b[0m\u001b[1;33m\u001b[0m\u001b[1;33m\u001b[0m\u001b[0m\n\u001b[1;32m--> 242\u001b[1;33m         \u001b[0mRAC\u001b[0m\u001b[1;33m.\u001b[0m\u001b[0mNumPeriode\u001b[0m\u001b[1;33m(\u001b[0m\u001b[0mself\u001b[0m\u001b[1;33m)\u001b[0m\u001b[1;33m\u001b[0m\u001b[1;33m\u001b[0m\u001b[0m\n\u001b[0m\u001b[0;32m    243\u001b[0m         \u001b[0mRAC\u001b[0m\u001b[1;33m.\u001b[0m\u001b[0mSNMG\u001b[0m\u001b[1;33m(\u001b[0m\u001b[0mself\u001b[0m\u001b[1;33m,\u001b[0m \u001b[0mself\u001b[0m\u001b[1;33m.\u001b[0m\u001b[0mDateAdmission\u001b[0m\u001b[1;33m)\u001b[0m\u001b[1;33m\u001b[0m\u001b[1;33m\u001b[0m\u001b[0m\n\u001b[0;32m    244\u001b[0m \u001b[1;33m\u001b[0m\u001b[0m\n",
      "\u001b[1;32m~\\Documents\\Pratique AI\\Nadir_Class\\Python_Exo\\CNACLIB\\cnaclib\\rac.py\u001b[0m in \u001b[0;36mNumPeriode\u001b[1;34m(self)\u001b[0m\n\u001b[0;32m    222\u001b[0m     \u001b[1;32mdef\u001b[0m \u001b[0mNumPeriode\u001b[0m\u001b[1;33m(\u001b[0m\u001b[0mself\u001b[0m\u001b[1;33m)\u001b[0m\u001b[1;33m:\u001b[0m\u001b[1;33m\u001b[0m\u001b[1;33m\u001b[0m\u001b[0m\n\u001b[0;32m    223\u001b[0m         \u001b[0mRAC\u001b[0m\u001b[1;33m.\u001b[0m\u001b[0mDPC\u001b[0m\u001b[1;33m(\u001b[0m\u001b[0mself\u001b[0m\u001b[1;33m)\u001b[0m\u001b[1;33m\u001b[0m\u001b[1;33m\u001b[0m\u001b[0m\n\u001b[1;32m--> 224\u001b[1;33m         \u001b[0mNumMois\u001b[0m \u001b[1;33m=\u001b[0m \u001b[1;33m[\u001b[0m\u001b[0mx\u001b[0m \u001b[1;32mfor\u001b[0m \u001b[0mx\u001b[0m \u001b[1;32min\u001b[0m \u001b[0mrange\u001b[0m\u001b[1;33m(\u001b[0m\u001b[1;36m1\u001b[0m\u001b[1;33m,\u001b[0m \u001b[1;33m(\u001b[0m\u001b[0mself\u001b[0m\u001b[1;33m.\u001b[0m\u001b[0mDPC\u001b[0m\u001b[1;33m)\u001b[0m \u001b[1;33m+\u001b[0m \u001b[1;36m1\u001b[0m\u001b[1;33m)\u001b[0m\u001b[1;33m]\u001b[0m\u001b[1;33m\u001b[0m\u001b[1;33m\u001b[0m\u001b[0m\n\u001b[0m\u001b[0;32m    225\u001b[0m         \u001b[0mNumPeriode\u001b[0m \u001b[1;33m=\u001b[0m \u001b[1;33m[\u001b[0m\u001b[1;33m]\u001b[0m\u001b[1;33m\u001b[0m\u001b[1;33m\u001b[0m\u001b[0m\n\u001b[0;32m    226\u001b[0m         \u001b[0mz\u001b[0m \u001b[1;33m=\u001b[0m \u001b[0mround\u001b[0m\u001b[1;33m(\u001b[0m\u001b[1;33m(\u001b[0m\u001b[0mself\u001b[0m\u001b[1;33m.\u001b[0m\u001b[0mDPC\u001b[0m\u001b[1;33m)\u001b[0m\u001b[1;33m/\u001b[0m\u001b[1;36m4\u001b[0m\u001b[1;33m)\u001b[0m\u001b[1;33m\u001b[0m\u001b[1;33m\u001b[0m\u001b[0m\n",
      "\u001b[1;31mTypeError\u001b[0m: unsupported operand type(s) for +: 'method' and 'int'"
     ]
    }
   ],
   "source": [
    "# Calcul de la date de fin de droit\n",
    "dateFDD = simul.Date_FDD().strftime(\"%d/%m/%Y\")\n",
    "\n",
    "print(dateFDD)"
   ]
  },
  {
   "cell_type": "code",
   "execution_count": 52,
   "id": "c1014fde",
   "metadata": {},
   "outputs": [
    {
     "ename": "TypeError",
     "evalue": "unsupported operand type(s) for +: 'method' and 'int'",
     "output_type": "error",
     "traceback": [
      "\u001b[1;31m---------------------------------------------------------------------------\u001b[0m",
      "\u001b[1;31mTypeError\u001b[0m                                 Traceback (most recent call last)",
      "\u001b[1;32m<ipython-input-52-5d95f4b0fed6>\u001b[0m in \u001b[0;36m<module>\u001b[1;34m\u001b[0m\n\u001b[0;32m      1\u001b[0m \u001b[1;31m# Afficher le calendrier des indemnités\u001b[0m\u001b[1;33m\u001b[0m\u001b[1;33m\u001b[0m\u001b[1;33m\u001b[0m\u001b[0m\n\u001b[1;32m----> 2\u001b[1;33m \u001b[0mtableau\u001b[0m \u001b[1;33m=\u001b[0m \u001b[0msimul\u001b[0m\u001b[1;33m.\u001b[0m\u001b[0mtableaux_Indemnites\u001b[0m\u001b[1;33m(\u001b[0m\u001b[1;33m)\u001b[0m\u001b[1;33m\u001b[0m\u001b[1;33m\u001b[0m\u001b[0m\n\u001b[0m\u001b[0;32m      3\u001b[0m \u001b[0mtableau\u001b[0m\u001b[1;33m\u001b[0m\u001b[1;33m\u001b[0m\u001b[0m\n",
      "\u001b[1;32m~\\Documents\\Pratique AI\\Nadir_Class\\Python_Exo\\CNACLIB\\cnaclib\\rac.py\u001b[0m in \u001b[0;36mtableaux_Indemnites\u001b[1;34m(self)\u001b[0m\n\u001b[0;32m    296\u001b[0m \u001b[1;33m\u001b[0m\u001b[0m\n\u001b[0;32m    297\u001b[0m     \u001b[1;32mdef\u001b[0m \u001b[0mtableaux_Indemnites\u001b[0m\u001b[1;33m(\u001b[0m\u001b[0mself\u001b[0m\u001b[1;33m)\u001b[0m\u001b[1;33m:\u001b[0m\u001b[1;33m\u001b[0m\u001b[1;33m\u001b[0m\u001b[0m\n\u001b[1;32m--> 298\u001b[1;33m         \u001b[0mRAC\u001b[0m\u001b[1;33m.\u001b[0m\u001b[0mNumPeriode\u001b[0m\u001b[1;33m(\u001b[0m\u001b[0mself\u001b[0m\u001b[1;33m)\u001b[0m\u001b[1;33m\u001b[0m\u001b[1;33m\u001b[0m\u001b[0m\n\u001b[0m\u001b[0;32m    299\u001b[0m         \u001b[0mRAC\u001b[0m\u001b[1;33m.\u001b[0m\u001b[0mIndemnite\u001b[0m\u001b[1;33m(\u001b[0m\u001b[0mself\u001b[0m\u001b[1;33m)\u001b[0m\u001b[1;33m\u001b[0m\u001b[1;33m\u001b[0m\u001b[0m\n\u001b[0;32m    300\u001b[0m         \u001b[0mPeriodes\u001b[0m\u001b[1;33m=\u001b[0m\u001b[1;33m[\u001b[0m\u001b[0mRAC\u001b[0m\u001b[1;33m.\u001b[0m\u001b[0mNumPeriode\u001b[0m\u001b[1;33m(\u001b[0m\u001b[0mself\u001b[0m\u001b[1;33m)\u001b[0m\u001b[1;33m[\u001b[0m\u001b[0mp\u001b[0m\u001b[1;33m]\u001b[0m \u001b[1;32mfor\u001b[0m \u001b[0mp\u001b[0m \u001b[1;32min\u001b[0m \u001b[0mRAC\u001b[0m\u001b[1;33m.\u001b[0m\u001b[0mNumPeriode\u001b[0m\u001b[1;33m(\u001b[0m\u001b[0mself\u001b[0m\u001b[1;33m)\u001b[0m\u001b[1;33m]\u001b[0m\u001b[1;33m\u001b[0m\u001b[1;33m\u001b[0m\u001b[0m\n",
      "\u001b[1;32m~\\Documents\\Pratique AI\\Nadir_Class\\Python_Exo\\CNACLIB\\cnaclib\\rac.py\u001b[0m in \u001b[0;36mNumPeriode\u001b[1;34m(self)\u001b[0m\n\u001b[0;32m    222\u001b[0m     \u001b[1;32mdef\u001b[0m \u001b[0mNumPeriode\u001b[0m\u001b[1;33m(\u001b[0m\u001b[0mself\u001b[0m\u001b[1;33m)\u001b[0m\u001b[1;33m:\u001b[0m\u001b[1;33m\u001b[0m\u001b[1;33m\u001b[0m\u001b[0m\n\u001b[0;32m    223\u001b[0m         \u001b[0mRAC\u001b[0m\u001b[1;33m.\u001b[0m\u001b[0mDPC\u001b[0m\u001b[1;33m(\u001b[0m\u001b[0mself\u001b[0m\u001b[1;33m)\u001b[0m\u001b[1;33m\u001b[0m\u001b[1;33m\u001b[0m\u001b[0m\n\u001b[1;32m--> 224\u001b[1;33m         \u001b[0mNumMois\u001b[0m \u001b[1;33m=\u001b[0m \u001b[1;33m[\u001b[0m\u001b[0mx\u001b[0m \u001b[1;32mfor\u001b[0m \u001b[0mx\u001b[0m \u001b[1;32min\u001b[0m \u001b[0mrange\u001b[0m\u001b[1;33m(\u001b[0m\u001b[1;36m1\u001b[0m\u001b[1;33m,\u001b[0m \u001b[1;33m(\u001b[0m\u001b[0mself\u001b[0m\u001b[1;33m.\u001b[0m\u001b[0mDPC\u001b[0m\u001b[1;33m)\u001b[0m \u001b[1;33m+\u001b[0m \u001b[1;36m1\u001b[0m\u001b[1;33m)\u001b[0m\u001b[1;33m]\u001b[0m\u001b[1;33m\u001b[0m\u001b[1;33m\u001b[0m\u001b[0m\n\u001b[0m\u001b[0;32m    225\u001b[0m         \u001b[0mNumPeriode\u001b[0m \u001b[1;33m=\u001b[0m \u001b[1;33m[\u001b[0m\u001b[1;33m]\u001b[0m\u001b[1;33m\u001b[0m\u001b[1;33m\u001b[0m\u001b[0m\n\u001b[0;32m    226\u001b[0m         \u001b[0mz\u001b[0m \u001b[1;33m=\u001b[0m \u001b[0mround\u001b[0m\u001b[1;33m(\u001b[0m\u001b[1;33m(\u001b[0m\u001b[0mself\u001b[0m\u001b[1;33m.\u001b[0m\u001b[0mDPC\u001b[0m\u001b[1;33m)\u001b[0m\u001b[1;33m/\u001b[0m\u001b[1;36m4\u001b[0m\u001b[1;33m)\u001b[0m\u001b[1;33m\u001b[0m\u001b[1;33m\u001b[0m\u001b[0m\n",
      "\u001b[1;31mTypeError\u001b[0m: unsupported operand type(s) for +: 'method' and 'int'"
     ]
    }
   ],
   "source": [
    "# Afficher le calendrier des indemnités \n",
    "tableau = simul.tableaux_Indemnites()\n",
    "tableau"
   ]
  },
  {
   "cell_type": "code",
   "execution_count": null,
   "id": "14388411",
   "metadata": {},
   "outputs": [],
   "source": []
  }
 ],
 "metadata": {
  "kernelspec": {
   "display_name": "Python 3",
   "language": "python",
   "name": "python3"
  },
  "language_info": {
   "codemirror_mode": {
    "name": "ipython",
    "version": 3
   },
   "file_extension": ".py",
   "mimetype": "text/x-python",
   "name": "python",
   "nbconvert_exporter": "python",
   "pygments_lexer": "ipython3",
   "version": "3.8.10"
  }
 },
 "nbformat": 4,
 "nbformat_minor": 5
}
